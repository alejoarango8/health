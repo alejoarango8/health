{
 "cells": [
  {
   "cell_type": "code",
   "execution_count": 1,
   "id": "rIJEbneyGpRa",
   "metadata": {
    "colab": {
     "base_uri": "https://localhost:8080/"
    },
    "id": "rIJEbneyGpRa",
    "outputId": "2f83acc4-0762-4df9-a247-d588aafe1300"
   },
   "outputs": [],
   "source": [
    "# !pip install unidecode\n",
    "import pandas as pd\n",
    "import matplotlib.pyplot as plt\n",
    "import seaborn as sns\n",
    "import plotly.express as px\n",
    "import csv\n",
    "import unidecode\n",
    "import os\n",
    "import numpy as np\n",
    "import zlib\n",
    "import dateutil\n",
    "import datetime\n",
    "from ipywidgets import widgets, interactive_output\n",
    "from IPython.display import display\n"
   ]
  },
  {
   "cell_type": "markdown",
   "id": "92b69eb7-6247-4174-b10e-52f96efd25a2",
   "metadata": {},
   "source": [
    "# Lectura de Tablas"
   ]
  },
  {
   "cell_type": "code",
   "execution_count": 2,
   "id": "0slI-zZo92E2",
   "metadata": {
    "id": "0slI-zZo92E2"
   },
   "outputs": [],
   "source": [
    "os.path.splitext(\"df_cronicos.csv\")\n",
    "\n",
    "names = [os.path.splitext(i)[0] for i in os.listdir(\"data\") if os.path.splitext(i)[0].startswith(\"df\")]"
   ]
  },
  {
   "cell_type": "code",
   "execution_count": 3,
   "id": "52v0s_CgDdLd",
   "metadata": {
    "id": "52v0s_CgDdLd"
   },
   "outputs": [],
   "source": [
    "for i in names:\n",
    "\n",
    "  if i.endswith(\"cronicos\"):\n",
    "\n",
    "\n",
    "    df = pd.read_csv(\"data/\" + i + \".csv\", delimiter=\";\", encoding=\"latin-1\", low_memory=False)\n",
    "\n",
    "    with open(\"data/\" + i + \".csv\", \"r\", encoding=\"latin-1\") as f:\n",
    "      text = csv.reader(f)\n",
    "      columns = next(text)\n",
    "\n",
    "\n",
    "    columns = unidecode.unidecode(columns[0]).split(\";\")\n",
    "\n",
    "    df.columns = columns\n",
    "\n",
    "    df.replace([\"\", \"([sS]in\\s)\", \"ND\"], [np.nan]*3, regex=True, inplace=True)\n",
    "\n",
    "    locals().update({i:df})\n",
    "\n",
    "  else:\n",
    "\n",
    "    df = pd.read_csv(\"data/\" + i + \".csv\", delimiter=\",\", encoding=\"latin-1\", low_memory=False)\n",
    "\n",
    "    with open(\"data/\" + i + \".csv\", \"r\", encoding=\"latin-1\") as f:\n",
    "      text = csv.reader(f)\n",
    "      columns = next(text)\n",
    "    \n",
    "    columns = unidecode.unidecode(\";\".join(columns)).split(\";\")\n",
    "\n",
    "    df.columns = columns\n",
    "\n",
    "    df.replace([\"\", \"([sS]in\\s)\", \"ND\"], [np.nan]*3, regex=True, inplace=True)\n",
    "\n",
    "    locals().update({i:df})\n",
    "\n"
   ]
  },
  {
   "cell_type": "code",
   "execution_count": 4,
   "id": "bC8zsZUxsCvb",
   "metadata": {
    "colab": {
     "base_uri": "https://localhost:8080/",
     "height": 426,
     "referenced_widgets": [
      "967bdb59b6f94c38b95ff7c62577b6cf",
      "6b977369efbd4400b8607f5ee2497140",
      "cbc5e65fc5c349968daa6746c30b6cbf",
      "8491df04e5684ed894641549bcb1d834",
      "2498168286ad439ea4c60edc57a52c66"
     ]
    },
    "id": "bC8zsZUxsCvb",
    "outputId": "04b2c84b-f229-4029-e63b-5e118b897e9c"
   },
   "outputs": [
    {
     "data": {
      "application/vnd.jupyter.widget-view+json": {
       "model_id": "14c07a71093d4dc1aa7b3d2d11d8a99f",
       "version_major": 2,
       "version_minor": 0
      },
      "text/plain": [
       "Dropdown(options=(306221, 306222, 306223, 306224, 306225, 306226, 306227, 306228, 306229, 306230, 306231, 3062…"
      ]
     },
     "metadata": {},
     "output_type": "display_data"
    },
    {
     "data": {
      "application/vnd.jupyter.widget-view+json": {
       "model_id": "6c57497502e7485880533b1122a4c232",
       "version_major": 2,
       "version_minor": 0
      },
      "text/plain": [
       "Output()"
      ]
     },
     "metadata": {},
     "output_type": "display_data"
    }
   ],
   "source": [
    "wid_1 = widgets.Dropdown(options=df_usuarios.loc[:,\"NRODOC\"].unique().tolist())\n",
    "\n",
    "def groupby(user):\n",
    "\n",
    "  df = df_usuarios.groupby(\"NRODOC\").get_group(user)\n",
    "  display(df)\n",
    "\n",
    "output = interactive_output(groupby, {\"user\":wid_1})\n",
    "\n",
    "display(wid_1, output)\n"
   ]
  },
  {
   "cell_type": "markdown",
   "id": "7dccdea7-26ae-4e34-a13a-675dc3750c8b",
   "metadata": {},
   "source": [
    "# Procesamiento usuarios"
   ]
  },
  {
   "cell_type": "code",
   "execution_count": 5,
   "id": "O0SloaTD6mhj",
   "metadata": {
    "id": "O0SloaTD6mhj"
   },
   "outputs": [],
   "source": [
    "df_usuarios_t = df_usuarios.copy()\n",
    "\n",
    "cols = [\"FECHA NACIMIENTO\", \"BARRIO\", \"MUNICIPIO\", \"DEPARTAMENTO\", \"FECHA INICIO AL PGP\", \"FECHA PRIMERA CLASE FUNCIONAL\", \"PRIMERA CLASE FUNCIONAL\"]\n",
    "\n",
    "mask = (df_usuarios_t[\"EDAD\"] >= 60) | (df_usuarios_t[\"EDAD\"].isna())\n",
    "\n",
    "df_usuarios_t = df_usuarios_t[mask]\n",
    "\n",
    "df_usuarios_t[\"FECHA NACIMIENTO\"] = pd.to_datetime(df_usuarios_t[\"FECHA NACIMIENTO\"], format=\"mixed\")\n",
    "\n",
    "spanish_months = {\"ENERO\": 1, \"FEBRERO\": 2, \"MARZO\": 3, \"ABRIL\": 4,\n",
    "                  \"MAYO\": 5, \"JUNIO\": 6, \"JULIO\": 7, \"AGOSTO\": 8,\n",
    "                  \"SEPTIEMBRE\": 9, \"OCTUBRE\": 10, \"NOVIEMBRE\": 11, \"DICIEMBRE\": 12}\n",
    "\n",
    "\n",
    "df_usuarios_t[\"MES\"] = df_usuarios_t[\"MES\"].replace(spanish_months)\n",
    "\n",
    "df_usuarios_t[\"DATE\"] = pd.to_datetime((df_usuarios_t[\"YEAR\"].astype(str) + \"/\" + df_usuarios_t[\"MES\"].astype(str)), format=\"%Y/%m\")\n",
    "\n",
    "\n",
    "for i in df_usuarios_t[\"NRODOC\"].unique():\n",
    "\n",
    "    df_usuarios_t.loc[df_usuarios_t.groupby(\"NRODOC\").get_group(i).index, cols] = df_usuarios_t.groupby(\"NRODOC\").get_group(i)[cols].bfill().ffill()\n",
    "\n",
    "fnna_index = df_usuarios_t[df_usuarios_t[\"FECHA NACIMIENTO\"].isna()].index\n",
    "\n",
    "for id in df_usuarios.loc[fnna_index, \"NRODOC\"].unique().tolist():\n",
    "\n",
    "  df = df_usuarios_t.copy().groupby(\"NRODOC\").get_group(id)\n",
    "\n",
    "  edad = df[\"EDAD\"].min()\n",
    "  fecha = df[\"DATE\"].min()\n",
    "  try:\n",
    "      \n",
    "    birth = fecha - datetime.timedelta(days=edad*365.25)\n",
    "    df_usuarios_t.loc[df_usuarios_t[\"NRODOC\"] == id, \"FECHA NACIMIENTO\"] = df.groupby(\"NRODOC\").get_group(id)[\"FECHA NACIMIENTO\"].fillna(birth)\n",
    "      \n",
    "  except ValueError:\n",
    "    pass\n",
    "\n",
    "df_usuarios_t.dropna(subset=[\"EDAD\", \"FECHA NACIMIENTO\"], how=\"all\", inplace=True)\n",
    "\n",
    "df_usuarios_t[\"EDAD\"] = ((df_usuarios_t[\"DATE\"] - df_usuarios_t[\"FECHA NACIMIENTO\"])/datetime.timedelta(days=365.25)).round(0).astype(int)\n",
    "\n",
    "mask = (df_usuarios_t[\"EDAD\"] >= 60)\n",
    "\n",
    "df_usuarios_t = df_usuarios_t[mask]"
   ]
  },
  {
   "cell_type": "code",
   "execution_count": 52,
   "id": "yjeUOGqJW30I",
   "metadata": {
    "colab": {
     "base_uri": "https://localhost:8080/",
     "height": 426,
     "referenced_widgets": [
      "d1e2ea22861545498385d0888015023e",
      "bbac2a2d62294ab28e36d75f00a9cec4",
      "720b51a09a7f4f82a26450f2e51a9aa9",
      "d6203654bc4b49028cefcc72a8571fff",
      "fe2837eb9650416b8987414ab67ecf8f"
     ]
    },
    "id": "yjeUOGqJW30I",
    "outputId": "830cb5f5-37e2-4157-c822-dbc523a7be69"
   },
   "outputs": [
    {
     "data": {
      "application/vnd.jupyter.widget-view+json": {
       "model_id": "08b626dc8c024e98adc13eb4fd0ca159",
       "version_major": 2,
       "version_minor": 0
      },
      "text/plain": [
       "Dropdown(options=(306221, 306222, 306223, 306224, 306225, 306226, 306227, 306228, 306229, 306230, 306231, 3062…"
      ]
     },
     "metadata": {},
     "output_type": "display_data"
    },
    {
     "data": {
      "application/vnd.jupyter.widget-view+json": {
       "model_id": "3cb1949626b44792a6d34f86ffcff6b8",
       "version_major": 2,
       "version_minor": 0
      },
      "text/plain": [
       "Output()"
      ]
     },
     "metadata": {},
     "output_type": "display_data"
    }
   ],
   "source": [
    "wid_1 = widgets.Dropdown(options=df_usuarios[\"NRODOC\"].unique().tolist())\n",
    "\n",
    "def groupby(user):\n",
    "\n",
    "  df = df_usuarios_t.groupby(\"NRODOC\").get_group(user)\n",
    "  display(df)\n",
    "\n",
    "output = interactive_output(groupby, {\"user\":wid_1})\n",
    "\n",
    "display(wid_1, output)"
   ]
  },
  {
   "cell_type": "code",
   "execution_count": 8,
   "id": "AAdTso3Xcuxl",
   "metadata": {
    "colab": {
     "base_uri": "https://localhost:8080/",
     "height": 430
    },
    "id": "AAdTso3Xcuxl",
    "outputId": "fbccfccd-8a52-48ae-81cf-378efaeaed02"
   },
   "outputs": [],
   "source": [
    "# df_na = df_usuarios[mask].isna().apply(pd.Series.value_counts, normalize=True).T.fillna(0)\n",
    "\n",
    "# # df_na.plot(kind=\"barh\", stacked=False)\n",
    "\n",
    "# df_na.sort_values(by=True, ascending=False).plot(kind=\"barh\", stacked=True, legend=False);\n"
   ]
  },
  {
   "cell_type": "code",
   "execution_count": 23,
   "id": "444f318e-181c-4ec8-9972-acc018515791",
   "metadata": {},
   "outputs": [],
   "source": [
    "# Usuarios mayores de 60\n",
    "ids = df_usuarios_t[\"NRODOC\"].unique()"
   ]
  },
  {
   "cell_type": "code",
   "execution_count": 10,
   "id": "lM6awZ3l0jmH",
   "metadata": {
    "colab": {
     "base_uri": "https://localhost:8080/",
     "height": 430
    },
    "id": "lM6awZ3l0jmH",
    "outputId": "a1e1dcfb-d705-461f-ec94-1f2ca772e813",
    "scrolled": true
   },
   "outputs": [
    {
     "data": {
      "image/png": "[encoded data removed]",
      "text/plain": [
       "<Figure size 640x480 with 1 Axes>"
      ]
     },
     "metadata": {},
     "output_type": "display_data"
    }
   ],
   "source": [
    "df_na = df_cronicos[df_cronicos[\"NRODOC\"].isin(ids)].isna().apply(pd.Series.value_counts, normalize=True).T.fillna(0)\n",
    "\n",
    "df_na.sort_values(by=True, ascending=False).plot(kind=\"barh\", stacked=True, legend=False)\n",
    "\n",
    "plt.yticks(visible=False);\n"
   ]
  },
  {
   "cell_type": "code",
   "execution_count": 11,
   "id": "2ZCHZQAX2QEQ",
   "metadata": {
    "colab": {
     "base_uri": "https://localhost:8080/",
     "height": 430
    },
    "id": "2ZCHZQAX2QEQ",
    "outputId": "7312e876-eca8-4b26-93ed-0218cc55fe1b"
   },
   "outputs": [
    {
     "data": {
      "image/png": "[encoded data removed]",
      "text/plain": [
       "<Figure size 640x480 with 1 Axes>"
      ]
     },
     "metadata": {},
     "output_type": "display_data"
    }
   ],
   "source": [
    "df_na = df_egresos[df_egresos[\"NRODOC\"].isin(ids)].isna().apply(pd.Series.value_counts, normalize=True).T.fillna(0)\n",
    "\n",
    "df_na.sort_values(by=True, ascending=False).plot(kind=\"barh\", stacked=True, legend=False)\n",
    "\n",
    "plt.yticks(visible=False);\n"
   ]
  },
  {
   "cell_type": "code",
   "execution_count": 14,
   "id": "kvS-xW1VXmTX",
   "metadata": {
    "colab": {
     "base_uri": "https://localhost:8080/"
    },
    "id": "kvS-xW1VXmTX",
    "outputId": "ac9da679-5ddb-4987-f7f4-d2c6d85f2f98"
   },
   "outputs": [
    {
     "data": {
      "text/plain": [
       "True     220\n",
       "False     70\n",
       "Name: count, dtype: int64"
      ]
     },
     "execution_count": 14,
     "metadata": {},
     "output_type": "execute_result"
    }
   ],
   "source": [
    "df_na = (df_cronicos.isna().sum() > 4533).value_counts()\n",
    "df_na"
   ]
  },
  {
   "cell_type": "code",
   "execution_count": 15,
   "id": "nUr6WDFVZCgV",
   "metadata": {
    "colab": {
     "base_uri": "https://localhost:8080/",
     "height": 406
    },
    "id": "nUr6WDFVZCgV",
    "outputId": "a1c534cf-fe96-4889-d793-deeecb2a914f"
   },
   "outputs": [
    {
     "data": {
      "image/png": "[encoded data removed]",
      "text/plain": [
       "<Figure size 640x480 with 1 Axes>"
      ]
     },
     "metadata": {},
     "output_type": "display_data"
    }
   ],
   "source": [
    "plt.pie(df_na.values, labels=[True, False], autopct=\"%1.0f%%\")\n",
    "\n",
    "plt.legend();"
   ]
  },
  {
   "cell_type": "markdown",
   "id": "42d3e839-a4d0-4544-ba0c-f6473b9eb1b4",
   "metadata": {
    "id": "077698ae-a3ba-4e68-afdd-44cef1f4cf8e"
   },
   "source": [
    "# Cronicos"
   ]
  },
  {
   "cell_type": "code",
   "execution_count": null,
   "id": "bccfe9b4-583f-4c72-b96a-bcc4d74bf363",
   "metadata": {
    "id": "2e809fe1-8663-4a45-b86f-db10f335b9c0"
   },
   "outputs": [],
   "source": [
    "df_cronicos = df_cronicos[df_cronicos[\"NRODOC\"].isin(ids)]\n"
   ]
  },
  {
   "cell_type": "code",
   "execution_count": null,
   "id": "c2b90a3b-7420-4cb2-b3a0-71896793b264",
   "metadata": {
    "id": "dc063acb"
   },
   "outputs": [],
   "source": [
    "# Calcula el porcentaje de valores nulos en cada variable\n",
    "porcentaje_nulos = (df_cronicos.isnull().sum() / len(df_cronicos)) * 100\n",
    "\n",
    "# Filtra las variables que tienen más del 10% de valores nulos\n",
    "variables_con_nulos = porcentaje_nulos[porcentaje_nulos > 10].index\n",
    "\n",
    "# Elimina las variables con más del 10% de valores nulos del DataFrame\n",
    "df_cronicos.drop(variables_con_nulos, axis=1, inplace=True)\n",
    "\n",
    "df_cronicos[\"Fecha diligenciamiento\"] = pd.to_datetime((df_cronicos[\"Fecha diligenciamiento\"].astype(str) + \" \" + df_cronicos[\"Hora\"].astype(str)), format=\"mixed\")\n",
    "\n",
    "df_cronicos.drop([\"YEAR\", \"MES\", \"Hora\"], axis=1, inplace=True)"
   ]
  },
  {
   "cell_type": "code",
   "execution_count": null,
   "id": "6d2702f6-75a4-4d6b-840c-494b08c6eb0d",
   "metadata": {
    "id": "9721c1d0",
    "outputId": "ce6de86b-cd44-4d94-a4a0-1e4ec6648aa7"
   },
   "outputs": [
    {
     "data": {
      "text/plain": [
       "(35090, 61)"
      ]
     },
     "execution_count": 51,
     "metadata": {},
     "output_type": "execute_result"
    }
   ],
   "source": [
    "# pd.set_option(\"display.max_columns\", None)\n",
    "df_cronicos.shape"
   ]
  },
  {
   "cell_type": "code",
   "execution_count": null,
   "id": "d782809f-ff58-4349-8705-7570cf5814ae",
   "metadata": {
    "colab": {
     "base_uri": "https://localhost:8080/",
     "height": 430
    },
    "id": "7M_Gy0Jv5-Oe",
    "outputId": "e0fc6d83-bfb3-4a09-8b14-e83dc1928a9e"
   },
   "outputs": [
    {
     "data": {
      "image/png": "[encoded data removed]",
      "text/plain": [
       "<Figure size 640x480 with 1 Axes>"
      ]
     },
     "metadata": {},
     "output_type": "display_data"
    }
   ],
   "source": [
    "df_na = df_cronicos[df_cronicos[\"NRODOC\"].isin(ids)].isna().apply(pd.Series.value_counts, normalize=True).T.fillna(0)\n",
    "\n",
    "df_na.sort_values(by=True, ascending=False).plot(kind=\"barh\", stacked=True, legend=False)\n",
    "\n",
    "plt.yticks(visible=False);"
   ]
  },
  {
   "cell_type": "code",
   "execution_count": null,
   "id": "c209de57-e711-4566-8ff7-f367e3b2a607",
   "metadata": {
    "colab": {
     "base_uri": "https://localhost:8080/"
    },
    "id": "Zy5gdCDh6LJb",
    "outputId": "78c4f83b-4447-40ec-8971-c69e2024f17c"
   },
   "outputs": [
    {
     "data": {
      "text/plain": [
       "Index(['Saturacion de Oxigeno (%)', 'Indice de Fragilidad Groningen',\n",
       "       'Test Findrisc', 'Diabetes Mellitus', 'Glicemia', 'Hemoglobina Glicada',\n",
       "       'Control Diabetes', 'Tiene HTA', 'Tiene EPOC',\n",
       "       'EPOC (Clasificacion BODEX)', 'Enfermedad Coronaria (En el ultimo ano)',\n",
       "       'Insuficiencia Cardiaca', 'Valvulopatia',\n",
       "       'Arritmia o paciente con dispositivo',\n",
       "       'Sufre de alguna enfermedad cardiovascular', 'Tabaquismo',\n",
       "       'Lipoproteina', 'HDL', 'Colesterol total', 'Trigliceridos',\n",
       "       'Creatinina 1 consulta', 'Tasa de Filtracion Glomerular TFG',\n",
       "       'Microalbuminuria', 'Hormona Estimulante de la Tiroides (TSH)',\n",
       "       'Clase Funcional', 'Creatinina 2 consulta',\n",
       "       'Tasa de Filtracion Glomerular TFG2', 'Meses de diferencia entre TFG',\n",
       "       'Cambio de TFG', 'Ulcera de pie diabetico', 'Remision',\n",
       "       'Fecha Proximo Control', 'Ambito segun el medico'],\n",
       "      dtype='object')"
      ]
     },
     "execution_count": 265,
     "metadata": {},
     "output_type": "execute_result"
    }
   ],
   "source": [
    "na_cols = df_cronicos.isna().sum()[df_cronicos.isna().sum() > 0].index\n",
    "na_cols"
   ]
  },
  {
   "cell_type": "code",
   "execution_count": null,
   "id": "cda20f48-2ea4-47b1-81e2-9bc1a742530b",
   "metadata": {
    "id": "28ZRRjgzDP6d"
   },
   "outputs": [],
   "source": [
    "df_na_cols = df_cronicos.loc[:, na_cols]\n",
    "\n",
    "df_na_cols.loc[(df_na_cols[\"EPOC (Clasificacion BODEX)\"].isna()) & (df_na_cols[\"Tiene EPOC\"] == \"No\"), \"EPOC (Clasificacion BODEX)\"] = \"No\"\n",
    "# df_na_cols.loc[(df_na_cols[\"Tiene EPOC\"] == \"No\"), \"EPOC (Clasificacion BODEX)\"].value_counts()\n",
    "# df_na_cols[[\"Test Findrisc\", ]]\n",
    "# df_na_cols\n",
    "df_cronicos.head()"
   ]
  },
  {
   "cell_type": "code",
   "execution_count": null,
   "id": "2be7aa33-e5d3-4b45-a1b5-5f4705ddbd87",
   "metadata": {
    "colab": {
     "base_uri": "https://localhost:8080/",
     "height": 498,
     "referenced_widgets": [
      "394c464b1ad445b281210fe6edd13371",
      "2fd1bee29d484ecf90a2d5d41062bdd0",
      "1ecd6b54c53c43e7a2b261ad656715ab",
      "072fd766f6ac4ad19d68469d62776122",
      "9d53d26a7c06496d8f9eb2a481121d18"
     ]
    },
    "id": "Gx6iV1i6XrE8",
    "outputId": "8127ba4c-59db-4fc7-e0b2-6ce8a3dae794"
   },
   "outputs": [
    {
     "data": {
      "application/vnd.jupyter.widget-view+json": {
       "model_id": "394c464b1ad445b281210fe6edd13371",
       "version_major": 2,
       "version_minor": 0
      },
      "text/plain": [
       "Dropdown(options=('Saturacion de Oxigeno (%)', 'Indice de Fragilidad Groningen', 'Test Findrisc', 'Diabetes Me…"
      ]
     },
     "metadata": {},
     "output_type": "display_data"
    },
    {
     "data": {
      "application/vnd.jupyter.widget-view+json": {
       "model_id": "072fd766f6ac4ad19d68469d62776122",
       "version_major": 2,
       "version_minor": 0
      },
      "text/plain": [
       "Output()"
      ]
     },
     "metadata": {},
     "output_type": "display_data"
    }
   ],
   "source": [
    "# df_cronicos[[\"Fecha diligenciamiento\", \"Peso\"]].set_index(\"Fecha diligenciamiento\").resample(\"Y\").mean()\n",
    "\n",
    "# pd.concat([df_cronicos[\"Fecha diligenciamiento\"], df_cronicos[\"Tiene HTA\"].isna()], axis=1).set_index(\"Fecha diligenciamiento\").resample(\"M\").sum().plot(kind=\"line\");\n",
    "\n",
    "\n",
    "wid_1 = widgets.Dropdown(options=na_cols)\n",
    "\n",
    "def plot_na(col):\n",
    "\n",
    "  df = pd.concat([df_cronicos[\"Fecha diligenciamiento\"], df_cronicos[col].isna()], axis=1).set_index(\"Fecha diligenciamiento\").resample(\"M\").sum()\n",
    "  df.plot(kind=\"line\")\n",
    "  plt.show()\n",
    "\n",
    "output = interactive_output(plot_na, {\"col\":wid_1})\n",
    "\n",
    "display(wid_1, output)"
   ]
  },
  {
   "cell_type": "code",
   "execution_count": null,
   "id": "47692907-ee82-47bf-bc45-4918eb39861e",
   "metadata": {
    "colab": {
     "referenced_widgets": [
      "8d4030ea1be7421dacc30e2a91047912"
     ]
    },
    "id": "07b4168a",
    "outputId": "f65e7c98-f8cd-4c8c-b1bf-4ccab0e0cd0e"
   },
   "outputs": [
    {
     "data": {
      "application/vnd.jupyter.widget-view+json": {
       "model_id": "8d4030ea1be7421dacc30e2a91047912",
       "version_major": 2,
       "version_minor": 0
      },
      "text/plain": [
       "interactive(children=(Dropdown(description='Variable:', options=(('YEAR', 'YEAR'), ('AtenciA3n', 'AtenciA3n'),…"
      ]
     },
     "execution_count": 17,
     "metadata": {},
     "output_type": "execute_result"
    }
   ],
   "source": [
    "# Obtener solo las variables numéricas\n",
    "variables_numericas = df_cronicos.select_dtypes(include=['number']).columns.tolist()\n",
    "\n",
    "# Función para visualizar boxplots de una variable numérica\n",
    "def visualizar_boxplot(nombre_variable):\n",
    "    plt.figure(figsize=(8, 6))\n",
    "    sns.boxplot(data=df, y=nombre_variable)\n",
    "    plt.title(\"Boxplot de la variable: {}\".format(nombre_variable))\n",
    "    plt.xlabel(\"Valor\")\n",
    "    plt.ylabel(\"Variable\")\n",
    "    plt.show()\n",
    "\n",
    "# Crear lista desplegable para seleccionar variable\n",
    "opciones_variables = [(variable, variable) for variable in variables_numericas]\n",
    "lista_desplegable = widgets.Dropdown(options=opciones_variables, description='Variable:')\n",
    "\n",
    "# Llamar a la función visualizar_boxplot cuando se seleccione una variable\n",
    "widgets.interactive(visualizar_boxplot, nombre_variable=lista_desplegable)"
   ]
  },
  {
   "cell_type": "code",
   "execution_count": null,
   "id": "953c99ee-90c1-4081-8872-a8fb11f87d23",
   "metadata": {
    "colab": {
     "referenced_widgets": [
      "e964285dc7374988be5b663ca243e490"
     ]
    },
    "id": "89e158e6",
    "outputId": "b8c38805-ce64-4492-f430-96b924d401af"
   },
   "outputs": [
    {
     "data": {
      "application/vnd.jupyter.widget-view+json": {
       "model_id": "e964285dc7374988be5b663ca243e490",
       "version_major": 2,
       "version_minor": 0
      },
      "text/plain": [
       "interactive(children=(Dropdown(description='Variable:', options=(('YEAR', 'YEAR'), ('MES', 'MES'), ('Fecha dil…"
      ]
     },
     "execution_count": 21,
     "metadata": {},
     "output_type": "execute_result"
    }
   ],
   "source": [
    "\n",
    "\n",
    "# Función para visualizar la distribución de una variable\n",
    "def visualizar_variable(nombre_variable):\n",
    "    plt.figure(figsize=(8, 6))\n",
    "    # Seleccionar el tipo de gráfico según el tipo de variable\n",
    "    if df_cronicos[nombre_variable].dtype == 'object':\n",
    "        df_cronicos[nombre_variable].value_counts().plot(kind='pie')\n",
    "    else:\n",
    "        df_cronicos[nombre_variable].plot(kind='hist', bins=20)\n",
    "    plt.title(\"Distribución de la variable: {}\".format(nombre_variable))\n",
    "    plt.xlabel(\"Valor\")\n",
    "    plt.ylabel(\"Frecuencia\")\n",
    "    plt.show()\n",
    "\n",
    "# Lista de variables en el DataFrame\n",
    "variables = df_cronicos.columns.tolist()\n",
    "\n",
    "# Crear lista desplegable para seleccionar variable\n",
    "opciones_variables = [(variable, variable) for variable in variables]\n",
    "lista_desplegable = widgets.Dropdown(options=opciones_variables, description='Variable:')\n",
    "\n",
    "# Llamar a la función visualizar_variable cuando se seleccione una variable\n",
    "widgets.interactive(visualizar_variable, nombre_variable=lista_desplegable)"
   ]
  },
  {
   "cell_type": "code",
   "execution_count": null,
   "id": "672c3873-669d-4324-9cbc-054c58672dfd",
   "metadata": {
    "id": "52c84725",
    "outputId": "33232593-a69e-467d-a6b7-203a71c85155"
   },
   "outputs": [
    {
     "data": {
      "image/png": "[encoded data removed]",
      "text/plain": [
       "<Figure size 1000x600 with 1 Axes>"
      ]
     },
     "metadata": {},
     "output_type": "display_data"
    }
   ],
   "source": [
    "# Calcular el número de ocurrencias de cada calse funcional por año\n",
    "ocurrencias_por_año = df_cronicos.groupby(['YEAR', 'Clase Funcional'])['Clase Funcional'].count().unstack()\n",
    "\n",
    "# Graficar el número de ocurrencias de cada clase funcional por año\n",
    "ocurrencias_por_año.plot(kind='bar', stacked=True, figsize=(10, 6))\n",
    "plt.xlabel('Año')\n",
    "plt.ylabel('Número de ocurrencias')\n",
    "plt.title('Número de ocurrencias por subcategoría y año')\n",
    "plt.legend(title='Subcategoría', bbox_to_anchor=(1.05, 1), loc='upper left')\n",
    "plt.grid(axis='y')\n",
    "plt.show()"
   ]
  },
  {
   "cell_type": "markdown",
   "id": "4dc324fc-29e9-4b07-90b1-7e6e3ba663f8",
   "metadata": {
    "id": "nWM4-dAL2WiQ"
   },
   "source": [
    "# Egresos"
   ]
  },
  {
   "cell_type": "code",
   "execution_count": null,
   "id": "d8614a5d-6771-47cc-9c70-a79faf604ffb",
   "metadata": {
    "id": "buVq6eQBh0PE"
   },
   "outputs": [],
   "source": [
    "df_egresos = df_egresos[df_egresos[\"NRODOC\"].isin(ids)]"
   ]
  },
  {
   "cell_type": "code",
   "execution_count": null,
   "id": "7d894b07-c15f-45f1-a894-91f1f7c346bf",
   "metadata": {
    "colab": {
     "base_uri": "https://localhost:8080/"
    },
    "id": "d0629057",
    "outputId": "e444d883-910b-4bba-e784-27cea3459a9a"
   },
   "outputs": [
    {
     "data": {
      "text/plain": [
       "Index(['SERVICIO HABILITADO', 'REGIMEN AFILIACION', 'EPS VALIDADA',\n",
       "       'MODALIDAD CONTRATO', 'FUENTE FINANCIACION1', 'FUENTE FINANCIACION2',\n",
       "       'SERVICIO ADMITE', 'BLOQUE ANTERIOR', 'PISO ANTERIOR',\n",
       "       'SERVICIO ANTERIOR', 'NRO CAMA ANTERIOR', 'VIA INGRESO', 'BLOQUE',\n",
       "       'PISO', 'NRO CAMA', 'SERVICIO EGRESO', 'TIPO EGRESO',\n",
       "       'FECHA INGRESO CLINICA', 'FECHA INGRESO SERVICIO', 'FECHA POSIBLE ALTA',\n",
       "       'FECHA RECAUDO', 'FECHA CAMILLERO', 'FECHA ENFERMERIA',\n",
       "       'FECHA FACTURACION AUDIFARMA', 'FECHA FARMACIA', 'FECHA ASEO',\n",
       "       'ALTA MEDICA', 'POSIBLE ALTA', 'DXPRINCIPAL EGRESO',\n",
       "       'DX RELACIONADO1 COD', 'DX RELACIONADO1', 'DX RELACIONADO2 COD',\n",
       "       'DX RELACIONADO2', 'DX RELACIONADO3 COD', 'DX RELACIONADO3',\n",
       "       'TIPO DIAGNOSTICO PRINCIPAL', 'PERTINENCIA DIAGNOSTICA',\n",
       "       'DX PRINCIPAL EGRESO CATEGORIA COD', 'DX PRINCIPAL EGRESO CATEGORIA',\n",
       "       'DX PRINCIPAL EGRESO CAPITULO COD', 'DX PRINCIPAL EGRESO CAPITULO',\n",
       "       'CAUSA BASICA MUERTE COD', 'CAUSA BASICA MUERTE',\n",
       "       'CAUSA BASICA CATEGORIA COD', 'CAUSA BASICA CATEGORIA',\n",
       "       'CAUSA BASICA CAPITULO COD', 'CAUSA BASICA CAPITULO',\n",
       "       'PROFESIONAL ESPECIALIDAD'],\n",
       "      dtype='object')"
      ]
     },
     "execution_count": 292,
     "metadata": {},
     "output_type": "execute_result"
    }
   ],
   "source": [
    "na_cols = df_egresos.isna().sum()[df_egresos.isna().sum() > 0].index\n",
    "na_cols"
   ]
  },
  {
   "cell_type": "code",
   "execution_count": null,
   "id": "8a011055-1fe9-4d56-9dfe-9c9fd9962678",
   "metadata": {
    "id": "Ynlm5YZnPkof"
   },
   "outputs": [],
   "source": [
    "# Calcula el porcentaje de valores nulos en cada variable\n",
    "porcentaje_nulos = df_egresos.isna().apply(pd.Series.value_counts, normalize=True).T.fillna(0)\n",
    "\n",
    "# Filtra las variables que tienen más del 10% de valores nulos\n",
    "variables_con_nulos = porcentaje_nulos[porcentaje_nulos[True] > 0.1].index\n",
    "\n",
    "# Elimina las variables con más del 10% de valores nulos del DataFrame\n",
    "# df_egresos.drop(variables_con_nulos, axis=1, inplace=True)\n",
    "\n"
   ]
  },
  {
   "cell_type": "code",
   "execution_count": null,
   "id": "1111ef44-eb7c-46d3-a5bd-1b7e53aa6825",
   "metadata": {
    "colab": {
     "base_uri": "https://localhost:8080/"
    },
    "id": "JSCEQsIVXR_x",
    "outputId": "7d7f2601-97d9-4c47-8027-ffec2272307d"
   },
   "outputs": [
    {
     "data": {
      "text/plain": [
       "Index(['SERVICIO HABILITADO', 'REGIMEN AFILIACION', 'EPS VALIDADA',\n",
       "       'MODALIDAD CONTRATO', 'FUENTE FINANCIACION1', 'FUENTE FINANCIACION2',\n",
       "       'BLOQUE ANTERIOR', 'PISO ANTERIOR', 'SERVICIO ANTERIOR',\n",
       "       'NRO CAMA ANTERIOR', 'VIA INGRESO', 'BLOQUE', 'PISO', 'NRO CAMA',\n",
       "       'SERVICIO EGRESO', 'TIPO EGRESO', 'FECHA INGRESO CLINICA',\n",
       "       'FECHA INGRESO SERVICIO', 'FECHA POSIBLE ALTA', 'FECHA RECAUDO',\n",
       "       'FECHA CAMILLERO', 'FECHA ENFERMERIA', 'FECHA FACTURACION AUDIFARMA',\n",
       "       'FECHA FARMACIA', 'FECHA ASEO', 'ALTA MEDICA', 'POSIBLE ALTA',\n",
       "       'DX RELACIONADO3', 'TIPO DIAGNOSTICO PRINCIPAL',\n",
       "       'PERTINENCIA DIAGNOSTICA', 'CAUSA BASICA MUERTE COD',\n",
       "       'CAUSA BASICA MUERTE', 'CAUSA BASICA CATEGORIA COD',\n",
       "       'CAUSA BASICA CATEGORIA', 'CAUSA BASICA CAPITULO COD',\n",
       "       'CAUSA BASICA CAPITULO', 'PROFESIONAL ESPECIALIDAD'],\n",
       "      dtype='object')"
      ]
     },
     "execution_count": 319,
     "metadata": {},
     "output_type": "execute_result"
    }
   ],
   "source": []
  },
  {
   "cell_type": "code",
   "execution_count": null,
   "id": "e882a011-149d-4455-9b4c-3ebe4bc52064",
   "metadata": {
    "colab": {
     "base_uri": "https://localhost:8080/"
    },
    "id": "7nlEslbl5jgw",
    "outputId": "95391d68-4051-4d2f-b08d-53cb1c4cda4e"
   },
   "outputs": [
    {
     "data": {
      "text/plain": [
       "0       NaN\n",
       "1       NaN\n",
       "2       NaN\n",
       "3       NaN\n",
       "4       NaN\n",
       "       ... \n",
       "6371    NaN\n",
       "6372    NaN\n",
       "6373    NaN\n",
       "6374    NaN\n",
       "6375    NaN\n",
       "Name: CAUSA BASICA MUERTE, Length: 6376, dtype: object"
      ]
     },
     "execution_count": 329,
     "metadata": {},
     "output_type": "execute_result"
    }
   ],
   "source": [
    "df_egresos.head()\n",
    "\n",
    "df_egresos[\"CAUSA BASICA MUERTE\"]"
   ]
  }
 ],
 "metadata": {
  "colab": {
   "provenance": []
  },
  "kernelspec": {
   "display_name": "Python 3 (ipykernel)",
   "language": "python",
   "name": "python3"
  },
  "language_info": {
   "codemirror_mode": {
    "name": "ipython",
    "version": 3
   },
   "file_extension": ".py",
   "mimetype": "text/x-python",
   "name": "python",
   "nbconvert_exporter": "python",
   "pygments_lexer": "ipython3",
   "version": "3.11.7"
  },
  "widgets": {
   "application/vnd.jupyter.widget-state+json": {
    "state": {},
    "version_major": 2,
    "version_minor": 0
   }
  }
 },
 "nbformat": 4,
 "nbformat_minor": 5
}
